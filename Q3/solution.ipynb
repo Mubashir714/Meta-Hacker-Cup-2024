{
 "cells": [
  {
   "cell_type": "markdown",
   "metadata": {},
   "source": [
    "Question No 3 "
   ]
  },
  {
   "cell_type": "code",
   "execution_count": 27,
   "metadata": {},
   "outputs": [],
   "source": [
    "def convex_hull(points):\n",
    "    points = sorted(points)\n",
    "    \n",
    "    # Build the lower hull\n",
    "    lower = []\n",
    "    for p in points:\n",
    "        while len(lower) >= 2 and cross(lower[-2], lower[-1], p) <= 0:\n",
    "            lower.pop()\n",
    "        lower.append(p)\n",
    "    \n",
    "    # Build the upper hull\n",
    "    upper = []\n",
    "    for p in reversed(points):\n",
    "        while len(upper) >= 2 and cross(upper[-2], upper[-1], p) <= 0:\n",
    "            upper.pop()\n",
    "        upper.append(p)\n",
    "    \n",
    "    # Remove the last point of each half because it is repeated at the beginning of the other half\n",
    "    return lower[:-1] + upper[:-1]\n",
    "\n",
    "def cross(o, a, b):\n",
    "    return (a[0] - o[0]) * (b[1] - o[1]) - (a[1] - o[1]) * (b[0] - o[0])\n",
    "\n",
    "def min_moves_to_line(ants):\n",
    "    N = len(ants)\n",
    "    if N <= 2:\n",
    "        return 0  # If there are 2 or fewer ants, no need to move any ants\n",
    "\n",
    "    hull = convex_hull(ants)\n",
    "    num_on_hull = len(hull)\n",
    "\n",
    "    # The minimum number of ants to move is the total number of ants minus those on the hull\n",
    "    return N - num_on_hull\n",
    "\n",
    "def main():\n",
    "    with open('input1.txt', 'r') as infile, open('output.txt', 'w') as outfile:\n",
    "        T = int(infile.readline().strip())  # Read number of test cases\n",
    "        for case_number in range(1, T + 1):\n",
    "            N = int(infile.readline().strip())  # Read number of ants in this test case\n",
    "            ants = [tuple(map(int, infile.readline().strip().split())) for _ in range(N)]  # Read the ants' coordinates\n",
    "            moves = min_moves_to_line(ants)  # Get the minimum moves required for this case\n",
    "            outfile.write(f\"Case #{case_number}: {moves}\\n\")  # Write the result to the output file\n",
    "\n",
    "if __name__ == \"__main__\":\n",
    "    main()\n"
   ]
  }
 ],
 "metadata": {
  "kernelspec": {
   "display_name": "Python 3",
   "language": "python",
   "name": "python3"
  },
  "language_info": {
   "codemirror_mode": {
    "name": "ipython",
    "version": 3
   },
   "file_extension": ".py",
   "mimetype": "text/x-python",
   "name": "python",
   "nbconvert_exporter": "python",
   "pygments_lexer": "ipython3",
   "version": "3.12.3"
  }
 },
 "nbformat": 4,
 "nbformat_minor": 2
}
