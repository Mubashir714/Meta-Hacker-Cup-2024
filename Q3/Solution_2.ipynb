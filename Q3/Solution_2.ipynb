{
 "cells": [
  {
   "cell_type": "code",
   "execution_count": null,
   "metadata": {},
   "outputs": [],
   "source": [
    "from collections import defaultdict\n",
    "from math import gcd\n",
    "\n",
    "def min_moves_to_line(ants):\n",
    "    N = len(ants)\n",
    "    if N <= 2:\n",
    "        return 0  # If there are 2 or fewer ants, no need to move any ants\n",
    "\n",
    "    best = 0\n",
    "\n",
    "    for i in range(N):\n",
    "        slopes = defaultdict(int)\n",
    "        for j in range(N):\n",
    "            if i != j:\n",
    "                # Calculate the slope as a vector (dx, dy)\n",
    "                dx = ants[j][0] - ants[i][0]\n",
    "                dy = ants[j][1] - ants[i][1]\n",
    "\n",
    "                # Normalize the slope using the greatest common divisor (gcd)\n",
    "                g = gcd(dx, dy)\n",
    "                dx //= g\n",
    "                dy //= g\n",
    "\n",
    "                # Ensure the direction of the slope is consistent (dx positive)\n",
    "                if dx < 0:\n",
    "                    dx, dy = -dx, -dy\n",
    "                elif dx == 0:\n",
    "                    dy = abs(dy)\n",
    "\n",
    "                # Count the normalized slope (dx, dy) for this reference ant\n",
    "                slopes[(dx, dy)] += 1\n",
    "\n",
    "        # The best case is the maximum number of ants lying on the same line\n",
    "        current_max = max(slopes.values(), default=0) + 1  # +1 to include the reference ant\n",
    "        best = max(best, current_max)\n",
    "\n",
    "    # The minimum number of ants to move is the total number of ants minus the maximum aligned ants\n",
    "    return N - best\n",
    "\n",
    "def main():\n",
    "    with open('input1.txt', 'r') as infile, open('output.txt', 'w') as outfile:\n",
    "        T = int(infile.readline().strip())  # Read number of test cases\n",
    "        for case_number in range(1, T + 1):\n",
    "            N = int(infile.readline().strip())  # Read number of ants in this test case\n",
    "            ants = [tuple(map(int, infile.readline().strip().split())) for _ in range(N)]  # Read the ants' coordinates\n",
    "            moves = min_moves_to_line(ants)  # Get the minimum moves required for this case\n",
    "            outfile.write(f\"Case #{case_number}: {moves}\\n\")  # Write the result to the output file\n",
    "\n",
    "if __name__ == \"__main__\":\n",
    "    main()\n"
   ]
  }
 ],
 "metadata": {
  "language_info": {
   "name": "python"
  }
 },
 "nbformat": 4,
 "nbformat_minor": 2
}
