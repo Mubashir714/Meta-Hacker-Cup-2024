{
 "cells": [
  {
   "cell_type": "code",
   "execution_count": 4,
   "metadata": {},
   "outputs": [],
   "source": [
    "# -*- coding: utf-8 -*-\n",
    "import math\n",
    "\n",
    "# Open the input file\n",
    "with open(\"input_4.txt\", \"r\") as f:\n",
    "    # Read the number of test cases\n",
    "    T = int(f.readline())\n",
    "\n",
    "    results = []  # List to store results for each test case\n",
    "\n",
    "    # Loop through each test case\n",
    "    for case in range(T):\n",
    "        N, G = map(int, f.readline().split(\" \"))\n",
    "        E = [int(f.readline().strip()) for _ in range(N)]\n",
    "\n",
    "        positions = {}\n",
    "\n",
    "        for i in range(N):\n",
    "            current_position = 0\n",
    "            stone = i\n",
    "            current_energy = E[stone]\n",
    "            while current_energy > 0:\n",
    "                if current_position in positions:\n",
    "                    new = positions[current_position]\n",
    "                    positions[current_position] = stone\n",
    "                    stone = new\n",
    "                current_position += 1\n",
    "                current_energy -= 1\n",
    "\n",
    "            positions[current_position - 1] = stone\n",
    "\n",
    "        minDistance = math.inf\n",
    "        minIndex = -1\n",
    "        for pos, stone in positions.items():\n",
    "            distance = abs(pos + 1 - G)  # Adjust for 1-based indexing\n",
    "            if distance < minDistance:\n",
    "                minDistance = distance\n",
    "                minIndex = stone\n",
    "            elif distance == minDistance and stone < minIndex:\n",
    "                minIndex = stone\n",
    "\n",
    "        # Append the result to the list\n",
    "        results.append(f\"Case #{case + 1}: {minIndex + 1} {minDistance}\")\n",
    "\n",
    "# Write the output to output.txt\n",
    "with open(\"output.txt\", \"w\") as outfile:\n",
    "    outfile.write(\"\\n\".join(results) + \"\\n\")\n"
   ]
  }
 ],
 "metadata": {
  "kernelspec": {
   "display_name": "Python 3",
   "language": "python",
   "name": "python3"
  },
  "language_info": {
   "codemirror_mode": {
    "name": "ipython",
    "version": 3
   },
   "file_extension": ".py",
   "mimetype": "text/x-python",
   "name": "python",
   "nbconvert_exporter": "python",
   "pygments_lexer": "ipython3",
   "version": "3.12.3"
  }
 },
 "nbformat": 4,
 "nbformat_minor": 2
}
