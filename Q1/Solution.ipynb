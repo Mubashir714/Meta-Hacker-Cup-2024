{
 "cells": [
  {
   "cell_type": "code",
   "execution_count": 1,
   "metadata": {},
   "outputs": [
    {
     "name": "stdout",
     "output_type": "stream",
     "text": [
      "Results successfully written to output.txt\n"
     ]
    }
   ],
   "source": [
    "def solve_from_file(file_name, output_file_name='output.txt'):\n",
    "    with open(file_name, 'r') as file:\n",
    "        data = file.readlines()\n",
    "\n",
    "    index = 0\n",
    "    T = int(data[index].strip())  # Number of test cases\n",
    "    index += 1\n",
    "    \n",
    "    results = []\n",
    "    \n",
    "    for t in range(1, T + 1):\n",
    "        N, K = map(int, data[index].split())  # Number of travelers and the allowed time\n",
    "        index += 1\n",
    "        S = [int(data[i].strip()) for i in range(index, index + N)]  # Crossing times for each traveler\n",
    "        index += N\n",
    "        \n",
    "        # Sort the travel times\n",
    "        S.sort()\n",
    "        \n",
    "        total_time = 0\n",
    "        \n",
    "        while N > 3:\n",
    "            # Two strategies to compare for the current slowest travelers\n",
    "            option1 = S[1] + S[0] + S[N - 1] + S[1]  # Send the two slowest across, return the fastest\n",
    "            option2 = S[N - 1] + S[N - 2] + 2 * S[0]  # Send the two fastest across, return the fastest\n",
    "            \n",
    "            # Choose the better option\n",
    "            total_time += min(option1, option2)\n",
    "            N -= 2  # Two travelers have crossed\n",
    "            \n",
    "        # Handle the last three or fewer travelers\n",
    "        if N == 3:\n",
    "            total_time += S[2] + S[1] + S[0]  # All three cross\n",
    "        elif N == 2:\n",
    "            total_time += S[1]  # Two cross together\n",
    "        elif N == 1:\n",
    "            total_time += S[0]  # One crosses alone\n",
    "\n",
    "        # Check if the total time is within the allowed time K\n",
    "        if total_time <= K:\n",
    "            results.append(f\"Case #{t}: YES\")\n",
    "        else:\n",
    "            results.append(f\"Case #{t}: NO\")\n",
    "    \n",
    "    # Write results to the output file\n",
    "    with open(output_file_name, 'w') as output_file:\n",
    "        for result in results:\n",
    "            output_file.write(result + '\\n')\n",
    "    print(f\"Results successfully written to {output_file_name}\")\n",
    "\n",
    "# Call the function with the input file\n",
    "solve_from_file('walk_the_line_input.txt')"
   ]
  }
 ],
 "metadata": {
  "kernelspec": {
   "display_name": "Python 3",
   "language": "python",
   "name": "python3"
  },
  "language_info": {
   "codemirror_mode": {
    "name": "ipython",
    "version": 3
   },
   "file_extension": ".py",
   "mimetype": "text/x-python",
   "name": "python",
   "nbconvert_exporter": "python",
   "pygments_lexer": "ipython3",
   "version": "3.12.3"
  }
 },
 "nbformat": 4,
 "nbformat_minor": 2
}
