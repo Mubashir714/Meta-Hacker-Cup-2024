{
 "cells": [
  {
   "cell_type": "code",
   "execution_count": 1,
   "metadata": {},
   "outputs": [],
   "source": [
    "import math\n",
    "\n",
    "def solve(input_file, output_file):\n",
    "    with open(input_file, 'r') as infile:\n",
    "        # Read number of test cases\n",
    "        T = int(infile.readline().strip())\n",
    "        \n",
    "        results = []\n",
    "        \n",
    "        for t in range(1, T + 1):\n",
    "            # Read N and P for each test case\n",
    "            N, P = map(int, infile.readline().strip().split())\n",
    "            \n",
    "            # Convert P to a decimal probability (P%)\n",
    "            prob_P = P / 100.0\n",
    "            \n",
    "            # Success probability with N-1 lines: (P/100)^(N-1)\n",
    "            prob_N_minus_1 = prob_P**(N-1)\n",
    "            \n",
    "            # Find the required P' such that (P'/100)^N = (P/100)^(N-1)\n",
    "            required_P = (prob_N_minus_1**(1 / N)) * 100\n",
    "            \n",
    "            # The increase in P is:\n",
    "            increase_in_P = required_P - P\n",
    "            \n",
    "            # Store the result formatted to 15 decimal places\n",
    "            results.append(f\"Case #{t}: {increase_in_P:.15f}\")\n",
    "    \n",
    "    # Write results to the output file\n",
    "    with open(output_file, 'w') as outfile:\n",
    "        outfile.write(\"\\n\".join(results) + \"\\n\")\n",
    "\n",
    "# Example usage\n",
    "input_file = 'line_by_line_input.txt'\n",
    "output_file = 'output.txt'\n",
    "solve(input_file, output_file)\n"
   ]
  }
 ],
 "metadata": {
  "kernelspec": {
   "display_name": "Python 3",
   "language": "python",
   "name": "python3"
  },
  "language_info": {
   "codemirror_mode": {
    "name": "ipython",
    "version": 3
   },
   "file_extension": ".py",
   "mimetype": "text/x-python",
   "name": "python",
   "nbconvert_exporter": "python",
   "pygments_lexer": "ipython3",
   "version": "3.12.3"
  }
 },
 "nbformat": 4,
 "nbformat_minor": 2
}
